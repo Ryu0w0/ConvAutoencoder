{
 "cells": [
  {
   "cell_type": "markdown",
   "metadata": {},
   "source": [
    "# Result of CAE + CNN"
   ]
  },
  {
   "cell_type": "code",
   "execution_count": 1,
   "metadata": {},
   "outputs": [],
   "source": [
    "import pandas as pd\n",
    "from matplotlib import pyplot as plt\n",
    "import tensorboard as tb\n",
    "import numpy as np"
   ]
  },
  {
   "cell_type": "code",
   "execution_count": 2,
   "metadata": {},
   "outputs": [],
   "source": [
    "def calc_mean_f1_score(df):\n",
    "    \"\"\" f1 score calculator \"\"\"\n",
    "    class_names = ['airplane','automobile','bird','cat','deer','dog','frog','horse','ship','truck']\n",
    "    f1_mean_map = {}\n",
    "    for cls_nm in class_names:\n",
    "        f1_scores = []\n",
    "        for fold_idx in range(5):\n",
    "            f1 = df.loc[df[\"run\"]==f\"valid_fold{fold_idx+1}_f1-score_{cls_nm}\"].sort_values(by=[\"step\"], ascending=False)[\"value\"].iloc[0]\n",
    "            f1_scores.append(np.round(f1, 2))\n",
    "        f1_mean_map[cls_nm] = np.mean(f1_scores)\n",
    "    return f1_mean_map"
   ]
  },
  {
   "cell_type": "code",
   "execution_count": 3,
   "metadata": {},
   "outputs": [],
   "source": [
    "def calc_mean_acc_score(df):\n",
    "    acc_scores = []\n",
    "    for fold_idx in range(5):\n",
    "        acc = df.loc[df[\"run\"]==f\"valid_acc_fold{fold_idx+1}\"].sort_values(by=[\"step\"], ascending=False)[\"value\"].iloc[0]\n",
    "        acc_scores.append(acc)\n",
    "    return np.mean(acc_scores)"
   ]
  },
  {
   "cell_type": "markdown",
   "metadata": {},
   "source": [
    "# Baseline vs CAE + CNN (code is fed as input)"
   ]
  },
  {
   "cell_type": "code",
   "execution_count": 6,
   "metadata": {},
   "outputs": [],
   "source": [
    "# read results from tensorboard\n",
    "experiment_id = \"clKHr7h1Q8WArvq8VTNNqg\"\n",
    "experiment = tb.data.experimental.ExperimentFromDev(experiment_id)\n",
    "df_baseline = experiment.get_scalars()"
   ]
  },
  {
   "cell_type": "code",
   "execution_count": 5,
   "metadata": {},
   "outputs": [],
   "source": [
    "# read results from tensorboard\n",
    "experiment_id = \"5L7OxgMXTDKAZ6Ocpd5ypw\"\n",
    "experiment = tb.data.experimental.ExperimentFromDev(experiment_id)\n",
    "df_cae_cnn_input = experiment.get_scalars()"
   ]
  },
  {
   "cell_type": "markdown",
   "metadata": {},
   "source": [
    "F1 score 比較"
   ]
  },
  {
   "cell_type": "code",
   "execution_count": 7,
   "metadata": {},
   "outputs": [
    {
     "data": {
      "text/html": [
       "<div>\n",
       "<style scoped>\n",
       "    .dataframe tbody tr th:only-of-type {\n",
       "        vertical-align: middle;\n",
       "    }\n",
       "\n",
       "    .dataframe tbody tr th {\n",
       "        vertical-align: top;\n",
       "    }\n",
       "\n",
       "    .dataframe thead th {\n",
       "        text-align: right;\n",
       "    }\n",
       "</style>\n",
       "<table border=\"1\" class=\"dataframe\">\n",
       "  <thead>\n",
       "    <tr style=\"text-align: right;\">\n",
       "      <th></th>\n",
       "      <th>airplane</th>\n",
       "      <th>automobile</th>\n",
       "      <th>bird</th>\n",
       "      <th>cat</th>\n",
       "      <th>deer</th>\n",
       "      <th>dog</th>\n",
       "      <th>frog</th>\n",
       "      <th>horse</th>\n",
       "      <th>ship</th>\n",
       "      <th>truck</th>\n",
       "    </tr>\n",
       "  </thead>\n",
       "  <tbody>\n",
       "    <tr>\n",
       "      <th>Baseline</th>\n",
       "      <td>0.786</td>\n",
       "      <td>0.862</td>\n",
       "      <td>0.586</td>\n",
       "      <td>0.564</td>\n",
       "      <td>0.648</td>\n",
       "      <td>0.664</td>\n",
       "      <td>0.784</td>\n",
       "      <td>0.808</td>\n",
       "      <td>0.846</td>\n",
       "      <td>0.698</td>\n",
       "    </tr>\n",
       "    <tr>\n",
       "      <th>Code is input</th>\n",
       "      <td>0.772</td>\n",
       "      <td>0.830</td>\n",
       "      <td>0.542</td>\n",
       "      <td>0.540</td>\n",
       "      <td>0.604</td>\n",
       "      <td>0.644</td>\n",
       "      <td>0.774</td>\n",
       "      <td>0.780</td>\n",
       "      <td>0.828</td>\n",
       "      <td>0.660</td>\n",
       "    </tr>\n",
       "    <tr>\n",
       "      <th>Improvement</th>\n",
       "      <td>-0.014</td>\n",
       "      <td>-0.032</td>\n",
       "      <td>-0.044</td>\n",
       "      <td>-0.024</td>\n",
       "      <td>-0.044</td>\n",
       "      <td>-0.020</td>\n",
       "      <td>-0.010</td>\n",
       "      <td>-0.028</td>\n",
       "      <td>-0.018</td>\n",
       "      <td>-0.038</td>\n",
       "    </tr>\n",
       "  </tbody>\n",
       "</table>\n",
       "</div>"
      ],
      "text/plain": [
       "               airplane  automobile   bird    cat   deer    dog   frog  horse  \\\n",
       "Baseline          0.786       0.862  0.586  0.564  0.648  0.664  0.784  0.808   \n",
       "Code is input     0.772       0.830  0.542  0.540  0.604  0.644  0.774  0.780   \n",
       "Improvement      -0.014      -0.032 -0.044 -0.024 -0.044 -0.020 -0.010 -0.028   \n",
       "\n",
       "                ship  truck  \n",
       "Baseline       0.846  0.698  \n",
       "Code is input  0.828  0.660  \n",
       "Improvement   -0.018 -0.038  "
      ]
     },
     "execution_count": 7,
     "metadata": {},
     "output_type": "execute_result"
    }
   ],
   "source": [
    "f1_mean_map_baseline = calc_mean_f1_score(df_baseline)\n",
    "f1_mean_map_cae_cnn_input = calc_mean_f1_score(df_cae_cnn_input)\n",
    "df_f1_comp1 = pd.DataFrame([f1_mean_map_baseline, f1_mean_map_cae_cnn_input], index=[\"Baseline\", \"Code is input\"])\n",
    "summary_f1_comp1 = pd.concat([df_f1_comp1, pd.DataFrame(df_f1_comp1.loc[\"Code is input\", :] - df_f1_comp1.loc[\"Baseline\", :]).transpose()], axis=0)\n",
    "summary_f1_comp1.index = [\"Baseline\", \"Code is input\", \"Improvement\"]\n",
    "summary_f1_comp1"
   ]
  },
  {
   "cell_type": "markdown",
   "metadata": {},
   "source": [
    "Mean validation acc"
   ]
  },
  {
   "cell_type": "code",
   "execution_count": 8,
   "metadata": {},
   "outputs": [
    {
     "data": {
      "text/plain": [
       "0.7187294006347656"
      ]
     },
     "execution_count": 8,
     "metadata": {},
     "output_type": "execute_result"
    }
   ],
   "source": [
    "# valid acc\n",
    "calc_mean_acc_score(df_cae_cnn_input)"
   ]
  },
  {
   "cell_type": "markdown",
   "metadata": {},
   "source": [
    "# Baseline vs CAE + CNN (Code is feature map)"
   ]
  },
  {
   "cell_type": "code",
   "execution_count": 9,
   "metadata": {},
   "outputs": [],
   "source": [
    "# read results from tensorboard\n",
    "experiment_id = \"clKHr7h1Q8WArvq8VTNNqg\"\n",
    "experiment = tb.data.experimental.ExperimentFromDev(experiment_id)\n",
    "df_baseline = experiment.get_scalars()"
   ]
  },
  {
   "cell_type": "code",
   "execution_count": 10,
   "metadata": {},
   "outputs": [],
   "source": [
    "# read results from tensorboard\n",
    "experiment_id = \"M33H7SyVS4yBmCVpwVGQRw\"\n",
    "experiment = tb.data.experimental.ExperimentFromDev(experiment_id)\n",
    "df_cae_cnn_fmap = experiment.get_scalars()"
   ]
  },
  {
   "cell_type": "markdown",
   "metadata": {},
   "source": [
    "F1 score 比較"
   ]
  },
  {
   "cell_type": "code",
   "execution_count": 13,
   "metadata": {},
   "outputs": [
    {
     "data": {
      "text/html": [
       "<div>\n",
       "<style scoped>\n",
       "    .dataframe tbody tr th:only-of-type {\n",
       "        vertical-align: middle;\n",
       "    }\n",
       "\n",
       "    .dataframe tbody tr th {\n",
       "        vertical-align: top;\n",
       "    }\n",
       "\n",
       "    .dataframe thead th {\n",
       "        text-align: right;\n",
       "    }\n",
       "</style>\n",
       "<table border=\"1\" class=\"dataframe\">\n",
       "  <thead>\n",
       "    <tr style=\"text-align: right;\">\n",
       "      <th></th>\n",
       "      <th>airplane</th>\n",
       "      <th>automobile</th>\n",
       "      <th>bird</th>\n",
       "      <th>cat</th>\n",
       "      <th>deer</th>\n",
       "      <th>dog</th>\n",
       "      <th>frog</th>\n",
       "      <th>horse</th>\n",
       "      <th>ship</th>\n",
       "      <th>truck</th>\n",
       "    </tr>\n",
       "  </thead>\n",
       "  <tbody>\n",
       "    <tr>\n",
       "      <th>Baseline</th>\n",
       "      <td>0.786</td>\n",
       "      <td>0.862</td>\n",
       "      <td>0.586</td>\n",
       "      <td>0.564</td>\n",
       "      <td>0.648</td>\n",
       "      <td>0.664</td>\n",
       "      <td>0.784</td>\n",
       "      <td>0.808</td>\n",
       "      <td>0.846</td>\n",
       "      <td>0.698</td>\n",
       "    </tr>\n",
       "    <tr>\n",
       "      <th>Code is feat map</th>\n",
       "      <td>0.790</td>\n",
       "      <td>0.858</td>\n",
       "      <td>0.598</td>\n",
       "      <td>0.554</td>\n",
       "      <td>0.622</td>\n",
       "      <td>0.668</td>\n",
       "      <td>0.784</td>\n",
       "      <td>0.804</td>\n",
       "      <td>0.848</td>\n",
       "      <td>0.694</td>\n",
       "    </tr>\n",
       "    <tr>\n",
       "      <th>Improvement</th>\n",
       "      <td>0.004</td>\n",
       "      <td>-0.004</td>\n",
       "      <td>0.012</td>\n",
       "      <td>-0.010</td>\n",
       "      <td>-0.026</td>\n",
       "      <td>0.004</td>\n",
       "      <td>0.000</td>\n",
       "      <td>-0.004</td>\n",
       "      <td>0.002</td>\n",
       "      <td>-0.004</td>\n",
       "    </tr>\n",
       "  </tbody>\n",
       "</table>\n",
       "</div>"
      ],
      "text/plain": [
       "                  airplane  automobile   bird    cat   deer    dog   frog  \\\n",
       "Baseline             0.786       0.862  0.586  0.564  0.648  0.664  0.784   \n",
       "Code is feat map     0.790       0.858  0.598  0.554  0.622  0.668  0.784   \n",
       "Improvement          0.004      -0.004  0.012 -0.010 -0.026  0.004  0.000   \n",
       "\n",
       "                  horse   ship  truck  \n",
       "Baseline          0.808  0.846  0.698  \n",
       "Code is feat map  0.804  0.848  0.694  \n",
       "Improvement      -0.004  0.002 -0.004  "
      ]
     },
     "execution_count": 13,
     "metadata": {},
     "output_type": "execute_result"
    }
   ],
   "source": [
    "f1_mean_map_baseline = calc_mean_f1_score(df_baseline)\n",
    "f1_mean_map_cae_cnn_fmap = calc_mean_f1_score(df_cae_cnn_fmap)\n",
    "df_f1_comp2 = pd.DataFrame([f1_mean_map_baseline, f1_mean_map_cae_cnn_fmap], index=[\"Baseline\", \"Code is feat map\"])\n",
    "summary_f1_comp2 = pd.concat([df_f1_comp2, pd.DataFrame(df_f1_comp2.loc[\"Code is feat map\", :] - df_f1_comp2.loc[\"Baseline\", :]).transpose()], axis=0)\n",
    "summary_f1_comp2.index = [\"Baseline\", \"Code is feat map\", \"Improvement\"]\n",
    "summary_f1_comp2"
   ]
  },
  {
   "cell_type": "markdown",
   "metadata": {},
   "source": [
    "Mean validation acc"
   ]
  },
  {
   "cell_type": "code",
   "execution_count": 12,
   "metadata": {},
   "outputs": [
    {
     "data": {
      "text/plain": [
       "0.7404000043869019"
      ]
     },
     "execution_count": 12,
     "metadata": {},
     "output_type": "execute_result"
    }
   ],
   "source": [
    "# valid acc\n",
    "calc_mean_acc_score(df_cae_cnn_fmap)"
   ]
  },
  {
   "cell_type": "markdown",
   "metadata": {},
   "source": [
    "Visualization"
   ]
  },
  {
   "cell_type": "code",
   "execution_count": 15,
   "metadata": {},
   "outputs": [
    {
     "data": {
      "image/png": "[encoded data removed]",
      "text/plain": [
       "<Figure size 432x288 with 1 Axes>"
      ]
     },
     "metadata": {
      "needs_background": "light"
     },
     "output_type": "display_data"
    }
   ],
   "source": [
    "from matplotlib import pyplot as plt\n",
    "for label in f1_mean_map_baseline.keys():\n",
    "    plt.scatter(x=summary_f1_comp2.loc[\"Baseline\", label], y=summary_f1_comp2.loc[\"Improvement\", label], label=label)\n",
    "plt.xlabel(\"F1 score in Aug without Oversample\")\n",
    "plt.ylabel(\"Improvement when oversampling\")\n",
    "plt.grid()\n",
    "plt.ylim([-0.04, 0.04])\n",
    "plt.legend(bbox_to_anchor=(1.05, 1))\n",
    "plt.savefig(\"./scatter_improve_cae_cnn_featmap.png\", bbox_inches=\"tight\")"
   ]
  },
  {
   "cell_type": "markdown",
   "metadata": {},
   "source": [
    "Test acc"
   ]
  },
  {
   "cell_type": "code",
   "execution_count": 16,
   "metadata": {},
   "outputs": [],
   "source": [
    "# read results from tensorboard\n",
    "experiment_id = \"kY1mdQTBTkahyTKPSE6Vyg\"\n",
    "experiment = tb.data.experimental.ExperimentFromDev(experiment_id)\n",
    "df_cae_cnn_fmap_test = experiment.get_scalars()"
   ]
  },
  {
   "cell_type": "code",
   "execution_count": 18,
   "metadata": {},
   "outputs": [
    {
     "data": {
      "text/plain": [
       "0.7103999853134155"
      ]
     },
     "execution_count": 18,
     "metadata": {},
     "output_type": "execute_result"
    }
   ],
   "source": [
    "# valid acc aug with oversampling\n",
    "df_cae_cnn_fmap_test.loc[df_cae_cnn_fmap_test[\"run\"]==f\"valid_acc_fold1\"].sort_values(by=[\"step\"], ascending=False)[\"value\"].iloc[0]"
   ]
  },
  {
   "cell_type": "markdown",
   "metadata": {},
   "source": [
    "Test acc遷移比較"
   ]
  },
  {
   "cell_type": "code",
   "execution_count": 20,
   "metadata": {},
   "outputs": [],
   "source": [
    "# read results from tensorboard\n",
    "experiment_id = \"qxAAgHKrQqOGTzEEJQlGBg\"\n",
    "experiment = tb.data.experimental.ExperimentFromDev(experiment_id)\n",
    "df_baseline_test = experiment.get_scalars()"
   ]
  },
  {
   "cell_type": "code",
   "execution_count": 21,
   "metadata": {},
   "outputs": [],
   "source": [
    "y_baseline = df_baseline_test.loc[df_baseline_test[\"run\"]==f\"valid_acc_fold1\"].sort_values(by=[\"step\"], ascending=True)[\"value\"]\n",
    "y_cae_cnn_fmap_test = df_cae_cnn_fmap_test.loc[df_cae_cnn_fmap_test[\"run\"]==f\"valid_acc_fold1\"].sort_values(by=[\"step\"], ascending=True)[\"value\"]"
   ]
  },
  {
   "cell_type": "code",
   "execution_count": 25,
   "metadata": {},
   "outputs": [
    {
     "data": {
      "image/png": "[encoded data removed]",
      "text/plain": [
       "<Figure size 432x288 with 1 Axes>"
      ]
     },
     "metadata": {
      "needs_background": "light"
     },
     "output_type": "display_data"
    }
   ],
   "source": [
    "plt.plot(y_baseline, label=\"Baseline\")\n",
    "plt.plot(y_cae_cnn_fmap_test, label=\"CAE+CNN\")\n",
    "plt.xlabel(\"Epoch\")\n",
    "plt.ylabel(\"Test Acc\")\n",
    "plt.grid()\n",
    "plt.legend()\n",
    "plt.savefig(\"./test_acc_cae_cnn.png\", bbox_inches=\"tight\")"
   ]
  }
 ],
 "metadata": {
  "kernelspec": {
   "display_name": "Python 3",
   "language": "python",
   "name": "python3"
  },
  "language_info": {
   "codemirror_mode": {
    "name": "ipython",
    "version": 3
   },
   "file_extension": ".py",
   "mimetype": "text/x-python",
   "name": "python",
   "nbconvert_exporter": "python",
   "pygments_lexer": "ipython3",
   "version": "3.6.10"
  }
 },
 "nbformat": 4,
 "nbformat_minor": 4
}
