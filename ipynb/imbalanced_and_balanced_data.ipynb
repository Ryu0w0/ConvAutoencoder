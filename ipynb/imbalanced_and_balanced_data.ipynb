{
 "cells": [
  {
   "cell_type": "markdown",
   "metadata": {},
   "source": [
    "# 少数クラスデータの影響、データ増強、Oversamplingの比較"
   ]
  },
  {
   "cell_type": "code",
   "execution_count": 1,
   "metadata": {},
   "outputs": [],
   "source": [
    "import pandas as pd\n",
    "from matplotlib import pyplot as plt\n",
    "import tensorboard as tb\n",
    "import numpy as np"
   ]
  },
  {
   "cell_type": "code",
   "execution_count": 2,
   "metadata": {},
   "outputs": [],
   "source": [
    "def calc_mean_f1_score(df):\n",
    "    \"\"\" f1 score calculator \"\"\"\n",
    "    class_names = ['airplane','automobile','bird','cat','deer','dog','frog','horse','ship','truck']\n",
    "    f1_mean_map = {}\n",
    "    for cls_nm in class_names:\n",
    "        f1_scores = []\n",
    "        for fold_idx in range(5):\n",
    "            f1 = df.loc[df[\"run\"]==f\"valid_fold{fold_idx+1}_f1-score_{cls_nm}\"].sort_values(by=[\"step\"], ascending=False)[\"value\"].iloc[0]\n",
    "            f1_scores.append(np.round(f1, 2))\n",
    "        f1_mean_map[cls_nm] = np.mean(f1_scores)\n",
    "    return f1_mean_map"
   ]
  },
  {
   "cell_type": "code",
   "execution_count": 3,
   "metadata": {},
   "outputs": [],
   "source": [
    "def calc_mean_acc_score(df):\n",
    "    acc_scores = []\n",
    "    for fold_idx in range(5):\n",
    "        acc = df.loc[df[\"run\"]==f\"valid_acc_fold{fold_idx+1}\"].sort_values(by=[\"step\"], ascending=False)[\"value\"].iloc[0]\n",
    "        acc_scores.append(acc)\n",
    "    return np.mean(acc_scores)"
   ]
  },
  {
   "cell_type": "markdown",
   "metadata": {},
   "source": [
    "# 不均衡データ vs 均衡データ"
   ]
  },
  {
   "cell_type": "markdown",
   "metadata": {},
   "source": [
    "不均衡データ"
   ]
  },
  {
   "cell_type": "code",
   "execution_count": 4,
   "metadata": {},
   "outputs": [],
   "source": [
    "# read results from tensorboard\n",
    "experiment_id = \"BX5GjbzkQKaXrE2xHwYAYw\"\n",
    "experiment = tb.data.experimental.ExperimentFromDev(experiment_id)\n",
    "df_imb = experiment.get_scalars()\n",
    "\n",
    "f1_mean_map_imbalance = calc_mean_f1_score(df_imb)"
   ]
  },
  {
   "cell_type": "markdown",
   "metadata": {},
   "source": [
    "均衡データ"
   ]
  },
  {
   "cell_type": "code",
   "execution_count": 5,
   "metadata": {},
   "outputs": [],
   "source": [
    "# read results from tensorboard\n",
    "experiment_id = \"onhNEOULQuOefRFrlHY37g\"\n",
    "experiment = tb.data.experimental.ExperimentFromDev(experiment_id)\n",
    "df_blc = experiment.get_scalars()\n",
    "\n",
    "# calc f1 score\n",
    "f1_mean_map_balanced = calc_mean_f1_score(df_blc)"
   ]
  },
  {
   "cell_type": "markdown",
   "metadata": {},
   "source": [
    "F1スコアのランク比較"
   ]
  },
  {
   "cell_type": "code",
   "execution_count": 6,
   "metadata": {},
   "outputs": [
    {
     "data": {
      "text/html": [
       "<div>\n",
       "<style scoped>\n",
       "    .dataframe tbody tr th:only-of-type {\n",
       "        vertical-align: middle;\n",
       "    }\n",
       "\n",
       "    .dataframe tbody tr th {\n",
       "        vertical-align: top;\n",
       "    }\n",
       "\n",
       "    .dataframe thead th {\n",
       "        text-align: right;\n",
       "    }\n",
       "</style>\n",
       "<table border=\"1\" class=\"dataframe\">\n",
       "  <thead>\n",
       "    <tr style=\"text-align: right;\">\n",
       "      <th></th>\n",
       "      <th>airplane</th>\n",
       "      <th>automobile</th>\n",
       "      <th>bird</th>\n",
       "      <th>cat</th>\n",
       "      <th>deer</th>\n",
       "      <th>dog</th>\n",
       "      <th>frog</th>\n",
       "      <th>horse</th>\n",
       "      <th>ship</th>\n",
       "      <th>truck</th>\n",
       "    </tr>\n",
       "  </thead>\n",
       "  <tbody>\n",
       "    <tr>\n",
       "      <th>Imbalanced (rank)</th>\n",
       "      <td>5.0</td>\n",
       "      <td>1.0</td>\n",
       "      <td>10.0</td>\n",
       "      <td>9.0</td>\n",
       "      <td>8.0</td>\n",
       "      <td>7.0</td>\n",
       "      <td>3.0</td>\n",
       "      <td>4.0</td>\n",
       "      <td>2.0</td>\n",
       "      <td>6.0</td>\n",
       "    </tr>\n",
       "    <tr>\n",
       "      <th>Balanced (rank)</th>\n",
       "      <td>6.0</td>\n",
       "      <td>2.0</td>\n",
       "      <td>8.0</td>\n",
       "      <td>10.0</td>\n",
       "      <td>7.0</td>\n",
       "      <td>9.0</td>\n",
       "      <td>4.0</td>\n",
       "      <td>5.0</td>\n",
       "      <td>1.0</td>\n",
       "      <td>3.0</td>\n",
       "    </tr>\n",
       "  </tbody>\n",
       "</table>\n",
       "</div>"
      ],
      "text/plain": [
       "                   airplane  automobile  bird   cat  deer  dog  frog  horse  \\\n",
       "Imbalanced (rank)       5.0         1.0  10.0   9.0   8.0  7.0   3.0    4.0   \n",
       "Balanced (rank)         6.0         2.0   8.0  10.0   7.0  9.0   4.0    5.0   \n",
       "\n",
       "                   ship  truck  \n",
       "Imbalanced (rank)   2.0    6.0  \n",
       "Balanced (rank)     1.0    3.0  "
      ]
     },
     "execution_count": 6,
     "metadata": {},
     "output_type": "execute_result"
    }
   ],
   "source": [
    "df_f1_comp = pd.DataFrame([f1_mean_map_imbalance, f1_mean_map_balanced], index=[\"Imbalance\", \"Balanced\"])\n",
    "summary_rank = df_f1_comp.rank(axis=1, ascending=False)\n",
    "summary_rank.index = [\"Imbalanced (rank)\", \"Balanced (rank)\"]\n",
    "summary_rank"
   ]
  },
  {
   "cell_type": "markdown",
   "metadata": {},
   "source": [
    "- 少数クラスのうちbirdとdeerは、他クラスのデータ量が2500と均衡しても順位はほぼ最下位のまま→CNNにとって元々分類の苦手なクラス\n",
    "- 少数クラスのうちtruckは、他クラスのデータ量が2500と均衡したことで順位が6位から3位へ浮上→CNNにとって分類の得意なクラス"
   ]
  },
  {
   "cell_type": "markdown",
   "metadata": {},
   "source": [
    "F1スコア比較"
   ]
  },
  {
   "cell_type": "code",
   "execution_count": 7,
   "metadata": {},
   "outputs": [
    {
     "data": {
      "text/html": [
       "<div>\n",
       "<style scoped>\n",
       "    .dataframe tbody tr th:only-of-type {\n",
       "        vertical-align: middle;\n",
       "    }\n",
       "\n",
       "    .dataframe tbody tr th {\n",
       "        vertical-align: top;\n",
       "    }\n",
       "\n",
       "    .dataframe thead th {\n",
       "        text-align: right;\n",
       "    }\n",
       "</style>\n",
       "<table border=\"1\" class=\"dataframe\">\n",
       "  <thead>\n",
       "    <tr style=\"text-align: right;\">\n",
       "      <th></th>\n",
       "      <th>airplane</th>\n",
       "      <th>automobile</th>\n",
       "      <th>bird</th>\n",
       "      <th>cat</th>\n",
       "      <th>deer</th>\n",
       "      <th>dog</th>\n",
       "      <th>frog</th>\n",
       "      <th>horse</th>\n",
       "      <th>ship</th>\n",
       "      <th>truck</th>\n",
       "    </tr>\n",
       "  </thead>\n",
       "  <tbody>\n",
       "    <tr>\n",
       "      <th>Imbalanced (f1)</th>\n",
       "      <td>0.746</td>\n",
       "      <td>0.830</td>\n",
       "      <td>0.484</td>\n",
       "      <td>0.538</td>\n",
       "      <td>0.558</td>\n",
       "      <td>0.612</td>\n",
       "      <td>0.78</td>\n",
       "      <td>0.762</td>\n",
       "      <td>0.810</td>\n",
       "      <td>0.708</td>\n",
       "    </tr>\n",
       "    <tr>\n",
       "      <th>Balanced (f1)</th>\n",
       "      <td>0.694</td>\n",
       "      <td>0.778</td>\n",
       "      <td>0.560</td>\n",
       "      <td>0.474</td>\n",
       "      <td>0.616</td>\n",
       "      <td>0.550</td>\n",
       "      <td>0.75</td>\n",
       "      <td>0.704</td>\n",
       "      <td>0.782</td>\n",
       "      <td>0.760</td>\n",
       "    </tr>\n",
       "    <tr>\n",
       "      <th>Diff</th>\n",
       "      <td>-0.052</td>\n",
       "      <td>-0.052</td>\n",
       "      <td>0.076</td>\n",
       "      <td>-0.064</td>\n",
       "      <td>0.058</td>\n",
       "      <td>-0.062</td>\n",
       "      <td>-0.03</td>\n",
       "      <td>-0.058</td>\n",
       "      <td>-0.028</td>\n",
       "      <td>0.052</td>\n",
       "    </tr>\n",
       "  </tbody>\n",
       "</table>\n",
       "</div>"
      ],
      "text/plain": [
       "                 airplane  automobile   bird    cat   deer    dog  frog  \\\n",
       "Imbalanced (f1)     0.746       0.830  0.484  0.538  0.558  0.612  0.78   \n",
       "Balanced (f1)       0.694       0.778  0.560  0.474  0.616  0.550  0.75   \n",
       "Diff               -0.052      -0.052  0.076 -0.064  0.058 -0.062 -0.03   \n",
       "\n",
       "                 horse   ship  truck  \n",
       "Imbalanced (f1)  0.762  0.810  0.708  \n",
       "Balanced (f1)    0.704  0.782  0.760  \n",
       "Diff            -0.058 -0.028  0.052  "
      ]
     },
     "execution_count": 7,
     "metadata": {},
     "output_type": "execute_result"
    }
   ],
   "source": [
    "summary_f1 = pd.concat([df_f1_comp, pd.DataFrame(df_f1_comp.loc[\"Balanced\", :] - df_f1_comp.loc[\"Imbalance\", :]).transpose()], axis=0)\n",
    "summary_f1.index = [\"Imbalanced (f1)\", \"Balanced (f1)\", \"Diff\"]\n",
    "summary_f1"
   ]
  },
  {
   "cell_type": "markdown",
   "metadata": {},
   "source": [
    "- 均衡データセットになったことでデータ量が減ったクラスはF1スコアも減少（bird, deer, truck以外のクラス）"
   ]
  },
  {
   "cell_type": "markdown",
   "metadata": {},
   "source": [
    "Validation acc"
   ]
  },
  {
   "cell_type": "code",
   "execution_count": 8,
   "metadata": {},
   "outputs": [
    {
     "data": {
      "text/plain": [
       "0.7010117530822754"
      ]
     },
     "execution_count": 8,
     "metadata": {},
     "output_type": "execute_result"
    }
   ],
   "source": [
    "calc_mean_acc_score(df_imb)"
   ]
  },
  {
   "cell_type": "code",
   "execution_count": 9,
   "metadata": {},
   "outputs": [
    {
     "data": {
      "text/plain": [
       "0.6676800131797791"
      ]
     },
     "execution_count": 9,
     "metadata": {},
     "output_type": "execute_result"
    }
   ],
   "source": [
    "calc_mean_acc_score(df_blc)"
   ]
  },
  {
   "cell_type": "markdown",
   "metadata": {},
   "source": [
    "# No Aug vs Aug"
   ]
  },
  {
   "cell_type": "code",
   "execution_count": 10,
   "metadata": {},
   "outputs": [],
   "source": [
    "# read results from tensorboard\n",
    "experiment_id = \"BX5GjbzkQKaXrE2xHwYAYw\"\n",
    "experiment = tb.data.experimental.ExperimentFromDev(experiment_id)\n",
    "df_no_aug = experiment.get_scalars()"
   ]
  },
  {
   "cell_type": "code",
   "execution_count": 11,
   "metadata": {},
   "outputs": [],
   "source": [
    "# read results from tensorboard\n",
    "experiment_id = \"qOPbJVEwQf6zbkLNP4Dxiw\"\n",
    "experiment = tb.data.experimental.ExperimentFromDev(experiment_id)\n",
    "df_aug = experiment.get_scalars()"
   ]
  },
  {
   "cell_type": "code",
   "execution_count": 12,
   "metadata": {},
   "outputs": [
    {
     "data": {
      "text/html": [
       "<div>\n",
       "<style scoped>\n",
       "    .dataframe tbody tr th:only-of-type {\n",
       "        vertical-align: middle;\n",
       "    }\n",
       "\n",
       "    .dataframe tbody tr th {\n",
       "        vertical-align: top;\n",
       "    }\n",
       "\n",
       "    .dataframe thead th {\n",
       "        text-align: right;\n",
       "    }\n",
       "</style>\n",
       "<table border=\"1\" class=\"dataframe\">\n",
       "  <thead>\n",
       "    <tr style=\"text-align: right;\">\n",
       "      <th></th>\n",
       "      <th>airplane</th>\n",
       "      <th>automobile</th>\n",
       "      <th>bird</th>\n",
       "      <th>cat</th>\n",
       "      <th>deer</th>\n",
       "      <th>dog</th>\n",
       "      <th>frog</th>\n",
       "      <th>horse</th>\n",
       "      <th>ship</th>\n",
       "      <th>truck</th>\n",
       "    </tr>\n",
       "  </thead>\n",
       "  <tbody>\n",
       "    <tr>\n",
       "      <th>No Aug</th>\n",
       "      <td>0.746</td>\n",
       "      <td>0.830</td>\n",
       "      <td>0.484</td>\n",
       "      <td>0.538</td>\n",
       "      <td>0.558</td>\n",
       "      <td>0.612</td>\n",
       "      <td>0.78</td>\n",
       "      <td>0.762</td>\n",
       "      <td>0.810</td>\n",
       "      <td>0.708</td>\n",
       "    </tr>\n",
       "    <tr>\n",
       "      <th>Aug</th>\n",
       "      <td>0.792</td>\n",
       "      <td>0.856</td>\n",
       "      <td>0.542</td>\n",
       "      <td>0.576</td>\n",
       "      <td>0.586</td>\n",
       "      <td>0.666</td>\n",
       "      <td>0.78</td>\n",
       "      <td>0.796</td>\n",
       "      <td>0.846</td>\n",
       "      <td>0.724</td>\n",
       "    </tr>\n",
       "    <tr>\n",
       "      <th>Improvement</th>\n",
       "      <td>0.046</td>\n",
       "      <td>0.026</td>\n",
       "      <td>0.058</td>\n",
       "      <td>0.038</td>\n",
       "      <td>0.028</td>\n",
       "      <td>0.054</td>\n",
       "      <td>0.00</td>\n",
       "      <td>0.034</td>\n",
       "      <td>0.036</td>\n",
       "      <td>0.016</td>\n",
       "    </tr>\n",
       "  </tbody>\n",
       "</table>\n",
       "</div>"
      ],
      "text/plain": [
       "             airplane  automobile   bird    cat   deer    dog  frog  horse  \\\n",
       "No Aug          0.746       0.830  0.484  0.538  0.558  0.612  0.78  0.762   \n",
       "Aug             0.792       0.856  0.542  0.576  0.586  0.666  0.78  0.796   \n",
       "Improvement     0.046       0.026  0.058  0.038  0.028  0.054  0.00  0.034   \n",
       "\n",
       "              ship  truck  \n",
       "No Aug       0.810  0.708  \n",
       "Aug          0.846  0.724  \n",
       "Improvement  0.036  0.016  "
      ]
     },
     "execution_count": 12,
     "metadata": {},
     "output_type": "execute_result"
    }
   ],
   "source": [
    "f1_mean_map_no_aug = calc_mean_f1_score(df_no_aug)\n",
    "f1_mean_map_aug = calc_mean_f1_score(df_aug)\n",
    "df_f1_comp_aug = pd.DataFrame([f1_mean_map_no_aug, f1_mean_map_aug], index=[\"No Aug\", \"Aug\"])\n",
    "summary_f1_aug = pd.concat([df_f1_comp_aug, pd.DataFrame(df_f1_comp_aug.loc[\"Aug\", :] - df_f1_comp_aug.loc[\"No Aug\", :]).transpose()], axis=0)\n",
    "summary_f1_aug.index = [\"No Aug\", \"Aug\", \"Improvement\"]\n",
    "summary_f1_aug"
   ]
  },
  {
   "cell_type": "code",
   "execution_count": 13,
   "metadata": {},
   "outputs": [
    {
     "data": {
      "image/png": "[encoded data removed]",
      "text/plain": [
       "<Figure size 432x288 with 1 Axes>"
      ]
     },
     "metadata": {
      "needs_background": "light"
     },
     "output_type": "display_data"
    }
   ],
   "source": [
    "from matplotlib import pyplot as plt\n",
    "for label in f1_mean_map_aug.keys():\n",
    "    plt.scatter(x=summary_f1_aug.loc[\"No Aug\", label], y=summary_f1_aug.loc[\"Improvement\", label], label=label)\n",
    "plt.xlabel(\"F1 score without augmentation\")\n",
    "plt.ylabel(\"Improvement when augmenting\")\n",
    "plt.grid()\n",
    "plt.ylim([-0.02, 0.08])\n",
    "plt.legend(bbox_to_anchor=(1.05, 1))\n",
    "plt.savefig(\"./scatter_improve_aug.png\", bbox_inches=\"tight\")"
   ]
  },
  {
   "cell_type": "code",
   "execution_count": 21,
   "metadata": {},
   "outputs": [
    {
     "data": {
      "text/plain": [
       "0.7420235276222229"
      ]
     },
     "execution_count": 21,
     "metadata": {},
     "output_type": "execute_result"
    }
   ],
   "source": [
    "# valid acc aug with oversampling\n",
    "calc_mean_acc_score(df_aug)"
   ]
  },
  {
   "cell_type": "markdown",
   "metadata": {},
   "source": [
    "# Aug vs Aug with oversampling"
   ]
  },
  {
   "cell_type": "code",
   "execution_count": 14,
   "metadata": {},
   "outputs": [],
   "source": [
    "# read results from tensorboard\n",
    "experiment_id = \"qOPbJVEwQf6zbkLNP4Dxiw\"\n",
    "experiment = tb.data.experimental.ExperimentFromDev(experiment_id)\n",
    "df_aug = experiment.get_scalars()"
   ]
  },
  {
   "cell_type": "code",
   "execution_count": 15,
   "metadata": {},
   "outputs": [],
   "source": [
    "# read results from tensorboard\n",
    "experiment_id = \"clKHr7h1Q8WArvq8VTNNqg\"\n",
    "experiment = tb.data.experimental.ExperimentFromDev(experiment_id)\n",
    "df_aug_ovsample = experiment.get_scalars()"
   ]
  },
  {
   "cell_type": "code",
   "execution_count": 16,
   "metadata": {},
   "outputs": [
    {
     "data": {
      "text/html": [
       "<div>\n",
       "<style scoped>\n",
       "    .dataframe tbody tr th:only-of-type {\n",
       "        vertical-align: middle;\n",
       "    }\n",
       "\n",
       "    .dataframe tbody tr th {\n",
       "        vertical-align: top;\n",
       "    }\n",
       "\n",
       "    .dataframe thead th {\n",
       "        text-align: right;\n",
       "    }\n",
       "</style>\n",
       "<table border=\"1\" class=\"dataframe\">\n",
       "  <thead>\n",
       "    <tr style=\"text-align: right;\">\n",
       "      <th></th>\n",
       "      <th>airplane</th>\n",
       "      <th>automobile</th>\n",
       "      <th>bird</th>\n",
       "      <th>cat</th>\n",
       "      <th>deer</th>\n",
       "      <th>dog</th>\n",
       "      <th>frog</th>\n",
       "      <th>horse</th>\n",
       "      <th>ship</th>\n",
       "      <th>truck</th>\n",
       "    </tr>\n",
       "  </thead>\n",
       "  <tbody>\n",
       "    <tr>\n",
       "      <th>Aug</th>\n",
       "      <td>0.792</td>\n",
       "      <td>0.856</td>\n",
       "      <td>0.542</td>\n",
       "      <td>0.576</td>\n",
       "      <td>0.586</td>\n",
       "      <td>0.666</td>\n",
       "      <td>0.780</td>\n",
       "      <td>0.796</td>\n",
       "      <td>0.846</td>\n",
       "      <td>0.724</td>\n",
       "    </tr>\n",
       "    <tr>\n",
       "      <th>Aug+Oversample</th>\n",
       "      <td>0.786</td>\n",
       "      <td>0.862</td>\n",
       "      <td>0.586</td>\n",
       "      <td>0.564</td>\n",
       "      <td>0.648</td>\n",
       "      <td>0.664</td>\n",
       "      <td>0.784</td>\n",
       "      <td>0.808</td>\n",
       "      <td>0.846</td>\n",
       "      <td>0.698</td>\n",
       "    </tr>\n",
       "    <tr>\n",
       "      <th>Improvement</th>\n",
       "      <td>-0.006</td>\n",
       "      <td>0.006</td>\n",
       "      <td>0.044</td>\n",
       "      <td>-0.012</td>\n",
       "      <td>0.062</td>\n",
       "      <td>-0.002</td>\n",
       "      <td>0.004</td>\n",
       "      <td>0.012</td>\n",
       "      <td>0.000</td>\n",
       "      <td>-0.026</td>\n",
       "    </tr>\n",
       "  </tbody>\n",
       "</table>\n",
       "</div>"
      ],
      "text/plain": [
       "                airplane  automobile   bird    cat   deer    dog   frog  \\\n",
       "Aug                0.792       0.856  0.542  0.576  0.586  0.666  0.780   \n",
       "Aug+Oversample     0.786       0.862  0.586  0.564  0.648  0.664  0.784   \n",
       "Improvement       -0.006       0.006  0.044 -0.012  0.062 -0.002  0.004   \n",
       "\n",
       "                horse   ship  truck  \n",
       "Aug             0.796  0.846  0.724  \n",
       "Aug+Oversample  0.808  0.846  0.698  \n",
       "Improvement     0.012  0.000 -0.026  "
      ]
     },
     "execution_count": 16,
     "metadata": {},
     "output_type": "execute_result"
    }
   ],
   "source": [
    "f1_mean_map_aug = calc_mean_f1_score(df_aug)\n",
    "f1_mean_map_aug_ovsample = calc_mean_f1_score(df_aug_ovsample)\n",
    "df_f1_comp_os = pd.DataFrame([f1_mean_map_aug, f1_mean_map_aug_ovsample], index=[\"Aug\", \"Aug+Oversample\"])\n",
    "summary_f1_os = pd.concat([df_f1_comp_os, pd.DataFrame(df_f1_comp_os.loc[\"Aug+Oversample\", :] - df_f1_comp_os.loc[\"Aug\", :]).transpose()], axis=0)\n",
    "summary_f1_os.index = [\"Aug\", \"Aug+Oversample\", \"Improvement\"]\n",
    "summary_f1_os"
   ]
  },
  {
   "cell_type": "code",
   "execution_count": 17,
   "metadata": {},
   "outputs": [
    {
     "data": {
      "image/png": "[encoded data removed]",
      "text/plain": [
       "<Figure size 432x288 with 1 Axes>"
      ]
     },
     "metadata": {
      "needs_background": "light"
     },
     "output_type": "display_data"
    }
   ],
   "source": [
    "from matplotlib import pyplot as plt\n",
    "for label in f1_mean_map_aug.keys():\n",
    "    plt.scatter(x=summary_f1_os.loc[\"Aug+Oversample\", label], y=summary_f1_os.loc[\"Improvement\", label], label=label)\n",
    "plt.xlabel(\"F1 score in Aug without Oversample\")\n",
    "plt.ylabel(\"Improvement when oversampling\")\n",
    "plt.grid()\n",
    "plt.ylim([-0.08, 0.08])\n",
    "plt.legend(bbox_to_anchor=(1.05, 1))\n",
    "plt.savefig(\"./scatter_improve_os.png\", bbox_inches=\"tight\")"
   ]
  },
  {
   "cell_type": "code",
   "execution_count": 18,
   "metadata": {},
   "outputs": [
    {
     "data": {
      "text/plain": [
       "0.7431764602661133"
      ]
     },
     "execution_count": 18,
     "metadata": {},
     "output_type": "execute_result"
    }
   ],
   "source": [
    "# valid acc aug with oversampling\n",
    "calc_mean_acc_score(df_aug_ovsample)"
   ]
  },
  {
   "cell_type": "markdown",
   "metadata": {},
   "source": [
    "# Test Acc in aug + oversampling"
   ]
  },
  {
   "cell_type": "code",
   "execution_count": 19,
   "metadata": {},
   "outputs": [],
   "source": [
    "# read results from tensorboard\n",
    "experiment_id = \"qxAAgHKrQqOGTzEEJQlGBg\"\n",
    "experiment = tb.data.experimental.ExperimentFromDev(experiment_id)\n",
    "df_aug_ovsample_test = experiment.get_scalars()"
   ]
  },
  {
   "cell_type": "code",
   "execution_count": 20,
   "metadata": {},
   "outputs": [
    {
     "data": {
      "text/plain": [
       "0.7052000164985657"
      ]
     },
     "execution_count": 20,
     "metadata": {},
     "output_type": "execute_result"
    }
   ],
   "source": [
    "df_aug_ovsample_test.loc[df_aug_ovsample_test[\"run\"]==f\"valid_acc_fold1\"].sort_values(by=[\"step\"], ascending=False)[\"value\"].iloc[0]"
   ]
  }
 ],
 "metadata": {
  "kernelspec": {
   "display_name": "Python 3",
   "language": "python",
   "name": "python3"
  },
  "language_info": {
   "codemirror_mode": {
    "name": "ipython",
    "version": 3
   },
   "file_extension": ".py",
   "mimetype": "text/x-python",
   "name": "python",
   "nbconvert_exporter": "python",
   "pygments_lexer": "ipython3",
   "version": "3.6.10"
  }
 },
 "nbformat": 4,
 "nbformat_minor": 4
}
